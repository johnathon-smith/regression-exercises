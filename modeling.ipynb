{
 "cells": [
  {
   "cell_type": "markdown",
   "id": "5a678fb0",
   "metadata": {},
   "source": [
    "# Modeling Exercises"
   ]
  },
  {
   "cell_type": "markdown",
   "id": "e8e2e469",
   "metadata": {},
   "source": [
    "__Step 1__\n",
    "\n",
    "Select a dataset with a continuous target variable."
   ]
  },
  {
   "cell_type": "markdown",
   "id": "59602c73",
   "metadata": {},
   "source": [
    "I will use the Swiss data set."
   ]
  },
  {
   "cell_type": "code",
   "execution_count": 10,
   "id": "ce24a112",
   "metadata": {},
   "outputs": [],
   "source": [
    "import numpy as np\n",
    "import pandas as pd\n",
    "from pydataset import data\n",
    "import wrangle\n",
    "import evaluate\n",
    "import matplotlib.pyplot as plt\n",
    "import seaborn as sns\n",
    "\n",
    "from sklearn.metrics import mean_squared_error\n",
    "from sklearn.preprocessing import StandardScaler\n",
    "from sklearn.linear_model import LinearRegression, LassoLars, TweedieRegressor\n",
    "from sklearn.preprocessing import PolynomialFeatures\n",
    "\n",
    "import warnings\n",
    "warnings.filterwarnings(\"ignore\")"
   ]
  },
  {
   "cell_type": "code",
   "execution_count": 2,
   "id": "8008c5f7",
   "metadata": {},
   "outputs": [
    {
     "data": {
      "text/html": [
       "<div>\n",
       "<style scoped>\n",
       "    .dataframe tbody tr th:only-of-type {\n",
       "        vertical-align: middle;\n",
       "    }\n",
       "\n",
       "    .dataframe tbody tr th {\n",
       "        vertical-align: top;\n",
       "    }\n",
       "\n",
       "    .dataframe thead th {\n",
       "        text-align: right;\n",
       "    }\n",
       "</style>\n",
       "<table border=\"1\" class=\"dataframe\">\n",
       "  <thead>\n",
       "    <tr style=\"text-align: right;\">\n",
       "      <th></th>\n",
       "      <th>Fertility</th>\n",
       "      <th>Agriculture</th>\n",
       "      <th>Examination</th>\n",
       "      <th>Education</th>\n",
       "      <th>Catholic</th>\n",
       "      <th>Infant.Mortality</th>\n",
       "    </tr>\n",
       "  </thead>\n",
       "  <tbody>\n",
       "    <tr>\n",
       "      <th>Courtelary</th>\n",
       "      <td>80.2</td>\n",
       "      <td>17.0</td>\n",
       "      <td>15</td>\n",
       "      <td>12</td>\n",
       "      <td>9.96</td>\n",
       "      <td>22.2</td>\n",
       "    </tr>\n",
       "    <tr>\n",
       "      <th>Delemont</th>\n",
       "      <td>83.1</td>\n",
       "      <td>45.1</td>\n",
       "      <td>6</td>\n",
       "      <td>9</td>\n",
       "      <td>84.84</td>\n",
       "      <td>22.2</td>\n",
       "    </tr>\n",
       "    <tr>\n",
       "      <th>Franches-Mnt</th>\n",
       "      <td>92.5</td>\n",
       "      <td>39.7</td>\n",
       "      <td>5</td>\n",
       "      <td>5</td>\n",
       "      <td>93.40</td>\n",
       "      <td>20.2</td>\n",
       "    </tr>\n",
       "    <tr>\n",
       "      <th>Moutier</th>\n",
       "      <td>85.8</td>\n",
       "      <td>36.5</td>\n",
       "      <td>12</td>\n",
       "      <td>7</td>\n",
       "      <td>33.77</td>\n",
       "      <td>20.3</td>\n",
       "    </tr>\n",
       "    <tr>\n",
       "      <th>Neuveville</th>\n",
       "      <td>76.9</td>\n",
       "      <td>43.5</td>\n",
       "      <td>17</td>\n",
       "      <td>15</td>\n",
       "      <td>5.16</td>\n",
       "      <td>20.6</td>\n",
       "    </tr>\n",
       "  </tbody>\n",
       "</table>\n",
       "</div>"
      ],
      "text/plain": [
       "              Fertility  Agriculture  Examination  Education  Catholic  \\\n",
       "Courtelary         80.2         17.0           15         12      9.96   \n",
       "Delemont           83.1         45.1            6          9     84.84   \n",
       "Franches-Mnt       92.5         39.7            5          5     93.40   \n",
       "Moutier            85.8         36.5           12          7     33.77   \n",
       "Neuveville         76.9         43.5           17         15      5.16   \n",
       "\n",
       "              Infant.Mortality  \n",
       "Courtelary                22.2  \n",
       "Delemont                  22.2  \n",
       "Franches-Mnt              20.2  \n",
       "Moutier                   20.3  \n",
       "Neuveville                20.6  "
      ]
     },
     "execution_count": 2,
     "metadata": {},
     "output_type": "execute_result"
    }
   ],
   "source": [
    "swiss = data('swiss')\n",
    "swiss.head()"
   ]
  },
  {
   "cell_type": "markdown",
   "id": "6925563a",
   "metadata": {},
   "source": [
    "__Step 2__\n",
    "\n",
    "Be sure your data is prepared (no missing values, numeric datatypes) and split into samples."
   ]
  },
  {
   "cell_type": "markdown",
   "id": "02e9b4fa",
   "metadata": {},
   "source": [
    "* All values are numeric\n",
    "* There are no missing values"
   ]
  },
  {
   "cell_type": "code",
   "execution_count": 4,
   "id": "45982308",
   "metadata": {},
   "outputs": [],
   "source": [
    "#Split data into train, test, validate\n",
    "train, test, validate = wrangle.train_validate_test_split(swiss)"
   ]
  },
  {
   "cell_type": "code",
   "execution_count": 5,
   "id": "b5d1636f",
   "metadata": {},
   "outputs": [],
   "source": [
    "#Create X and y groups\n",
    "X_train, y_train = train.drop('Fertility', axis = 1), train.Fertility\n",
    "X_validate, y_validate = validate.drop('Fertility', axis = 1), validate.Fertility\n",
    "X_test, y_test = test.drop('Fertility', axis = 1), test.Fertility"
   ]
  },
  {
   "cell_type": "code",
   "execution_count": 6,
   "id": "81967028",
   "metadata": {},
   "outputs": [],
   "source": [
    "#Scale the X data sets\n",
    "scaler = StandardScaler()\n",
    "scaler.fit(X_train)\n",
    "\n",
    "X_train_scaled = scaler.transform(X_train)\n",
    "X_validate_scaled = scaler.transform(X_validate)\n",
    "X_test_scaled = scaler.transform(X_test)"
   ]
  },
  {
   "cell_type": "markdown",
   "id": "9d95ff71",
   "metadata": {},
   "source": [
    "__Step 3__\n",
    "\n",
    "Work through all of the steps outlined in the lesson, from setting the baseline to selected a model and evaluating the final model on your test data."
   ]
  },
  {
   "cell_type": "code",
   "execution_count": 8,
   "id": "4e362632",
   "metadata": {},
   "outputs": [
    {
     "data": {
      "image/png": "[encoded data removed]",
      "text/plain": [
       "<Figure size 432x288 with 1 Axes>"
      ]
     },
     "metadata": {
      "needs_background": "light"
     },
     "output_type": "display_data"
    }
   ],
   "source": [
    "#Before moving forward, let's take a look at the target distribution\n",
    "plt.hist(y_train)\n",
    "plt.show()"
   ]
  },
  {
   "cell_type": "markdown",
   "id": "671f426d",
   "metadata": {},
   "source": [
    "The distribution appears somewhat normal."
   ]
  },
  {
   "cell_type": "markdown",
   "id": "01544cd6",
   "metadata": {},
   "source": [
    "__Baseline__"
   ]
  },
  {
   "cell_type": "code",
   "execution_count": 13,
   "id": "cee21267",
   "metadata": {},
   "outputs": [
    {
     "name": "stdout",
     "output_type": "stream",
     "text": [
      "RMSE using Mean\n",
      "Train/In-Sample:  9.77 \n",
      "Validate/Out-of-Sample:  15.03 \n",
      "\n",
      "RMSE using Median\n",
      "Train/In-Sample:  9.78 \n",
      "Validate/Out-of-Sample:  15.05\n"
     ]
    }
   ],
   "source": [
    "#Change y_train and y_validate to be data frames so we can store the baseline values in them\n",
    "y_train = pd.DataFrame(y_train)\n",
    "y_validate = pd.DataFrame(y_validate)\n",
    "\n",
    "#Calculate baseline based on mean\n",
    "baseline_mean_pred = y_train.Fertility.mean()\n",
    "y_train['baseline_mean_pred'] = baseline_mean_pred\n",
    "y_validate['baseline_mean_pred'] = baseline_mean_pred\n",
    "\n",
    "#Calculate baseline based on median\n",
    "baseline_median_pred = y_train.Fertility.median()\n",
    "y_train['baseline_median_pred'] = baseline_median_pred\n",
    "y_validate['baseline_median_pred'] = baseline_median_pred\n",
    "\n",
    "#Calculate RMSE based on mean\n",
    "train_RMSE = mean_squared_error(y_train.Fertility, y_train['baseline_mean_pred']) ** .5\n",
    "validate_RMSE = mean_squared_error(y_validate.Fertility, y_validate['baseline_mean_pred']) ** .5\n",
    "\n",
    "print(\"RMSE using Mean\\nTrain/In-Sample: \", round(train_RMSE, 2), \n",
    "      \"\\nValidate/Out-of-Sample: \", round(validate_RMSE, 2),\n",
    "     \"\\n\")\n",
    "\n",
    "#Calculate RMSE based on median\n",
    "train_RMSE = mean_squared_error(y_train.Fertility, y_train['baseline_median_pred']) ** .5\n",
    "validate_RMSE = mean_squared_error(y_validate.Fertility, y_validate['baseline_median_pred']) ** .5\n",
    "\n",
    "print(\"RMSE using Median\\nTrain/In-Sample: \", round(train_RMSE, 2), \n",
    "      \"\\nValidate/Out-of-Sample: \", round(validate_RMSE, 2))"
   ]
  },
  {
   "cell_type": "markdown",
   "id": "f288d132",
   "metadata": {},
   "source": [
    "__OLS__"
   ]
  },
  {
   "cell_type": "code",
   "execution_count": 14,
   "id": "a109d59f",
   "metadata": {},
   "outputs": [
    {
     "name": "stdout",
     "output_type": "stream",
     "text": [
      "RMSE using OLS\n",
      "Train/In-Sample:  4.57 \n",
      "Validate/Out-of-Sample:  10.68\n"
     ]
    }
   ],
   "source": [
    "#Create the model\n",
    "lm = LinearRegression(normalize = True)\n",
    "\n",
    "#Fit the model on scaled data\n",
    "lm.fit(X_train_scaled, y_train.Fertility)\n",
    "\n",
    "#Make predictions\n",
    "y_train['lm_preds'] = lm.predict(X_train_scaled)\n",
    "y_validate['lm_preds'] = lm.predict(X_validate_scaled)\n",
    "\n",
    "#Calculate RMSE\n",
    "train_RMSE = mean_squared_error(y_train.Fertility, y_train['lm_preds']) ** .5\n",
    "validate_RMSE = mean_squared_error(y_validate.Fertility, y_validate['lm_preds']) ** .5\n",
    "\n",
    "print(\"RMSE using OLS\\nTrain/In-Sample: \", round(train_RMSE, 2), \n",
    "      \"\\nValidate/Out-of-Sample: \", round(validate_RMSE, 2))"
   ]
  },
  {
   "cell_type": "markdown",
   "id": "86f1f2b1",
   "metadata": {},
   "source": [
    "__LassoLars__"
   ]
  },
  {
   "cell_type": "code",
   "execution_count": 15,
   "id": "c6edff5e",
   "metadata": {},
   "outputs": [
    {
     "name": "stdout",
     "output_type": "stream",
     "text": [
      "RMSE using LassoLars\n",
      "Train/In-Sample:  8.9 \n",
      "Validate/Out-of-Sample:  14.45\n"
     ]
    }
   ],
   "source": [
    "#Create the model\n",
    "lars = LassoLars(alpha = 1)\n",
    "\n",
    "#Fit the model on scaled data\n",
    "lars.fit(X_train_scaled, y_train.Fertility)\n",
    "\n",
    "#Make predictions\n",
    "y_train['lars_preds'] = lars.predict(X_train_scaled)\n",
    "y_validate['lars_preds'] = lars.predict(X_validate_scaled)\n",
    "\n",
    "#Calculate RMSE\n",
    "train_RMSE = mean_squared_error(y_train.Fertility, y_train['lars_preds']) ** .5\n",
    "validate_RMSE = mean_squared_error(y_validate.Fertility, y_validate['lars_preds']) ** .5\n",
    "\n",
    "print(\"RMSE using LassoLars\\nTrain/In-Sample: \", round(train_RMSE, 2), \n",
    "      \"\\nValidate/Out-of-Sample: \", round(validate_RMSE, 2))"
   ]
  },
  {
   "cell_type": "markdown",
   "id": "d01ccfda",
   "metadata": {},
   "source": [
    "__GLM__"
   ]
  },
  {
   "cell_type": "code",
   "execution_count": 18,
   "id": "ee9ae0f3",
   "metadata": {},
   "outputs": [
    {
     "name": "stdout",
     "output_type": "stream",
     "text": [
      "RMSE using GLM\n",
      "Train/In-Sample:  4.57 \n",
      "Validate/Out-of-Sample:  10.68\n"
     ]
    }
   ],
   "source": [
    "#Create the model\n",
    "glm = TweedieRegressor(power = 0, alpha = 0)\n",
    "\n",
    "#Fit the model on scaled data\n",
    "glm.fit(X_train_scaled, y_train.Fertility)\n",
    "\n",
    "#Make predictions\n",
    "y_train['glm_preds'] = glm.predict(X_train_scaled)\n",
    "y_validate['glm_preds'] = glm.predict(X_validate_scaled)\n",
    "\n",
    "#Calculate RMSE\n",
    "train_RMSE = mean_squared_error(y_train.Fertility, y_train['glm_preds']) ** .5\n",
    "validate_RMSE = mean_squared_error(y_validate.Fertility, y_validate['glm_preds']) ** .5\n",
    "\n",
    "print(\"RMSE using GLM\\nTrain/In-Sample: \", round(train_RMSE, 2), \n",
    "      \"\\nValidate/Out-of-Sample: \", round(validate_RMSE, 2))"
   ]
  },
  {
   "cell_type": "markdown",
   "id": "3671f7f0",
   "metadata": {},
   "source": [
    "__Polynomial__"
   ]
  },
  {
   "cell_type": "code",
   "execution_count": 19,
   "id": "295fbb0c",
   "metadata": {},
   "outputs": [
    {
     "name": "stdout",
     "output_type": "stream",
     "text": [
      "RMSE using Polynomial Features\n",
      "Train/In-Sample:  2.59 \n",
      "Validate/Out-of-Sample:  59.77\n"
     ]
    }
   ],
   "source": [
    "#Create new features\n",
    "pf = PolynomialFeatures(degree = 2)\n",
    "\n",
    "#Fit to scaled data\n",
    "X_train_degree2 = pf.fit_transform(X_train_scaled)\n",
    "\n",
    "#Transform for validate and test as well\n",
    "X_validate_degree2 = pf.transform(X_validate_scaled)\n",
    "X_test_degree2 = pf.transform(X_test_scaled)\n",
    "\n",
    "#Now use linear regression with new features\n",
    "lm2 = LinearRegression(normalize = True)\n",
    "\n",
    "#Fit the model\n",
    "lm2.fit(X_train_degree2, y_train.Fertility)\n",
    "\n",
    "#Make predicitons\n",
    "y_train['poly_preds'] = lm2.predict(X_train_degree2)\n",
    "y_validate['poly_preds'] = lm2.predict(X_validate_degree2)\n",
    "\n",
    "#Calculate RMSE\n",
    "train_RMSE = mean_squared_error(y_train.Fertility, y_train['poly_preds']) ** .5\n",
    "validate_RMSE = mean_squared_error(y_validate.Fertility, y_validate['poly_preds']) ** .5\n",
    "\n",
    "print(\"RMSE using Polynomial Features\\nTrain/In-Sample: \", round(train_RMSE, 2), \n",
    "      \"\\nValidate/Out-of-Sample: \", round(validate_RMSE, 2))"
   ]
  },
  {
   "cell_type": "markdown",
   "id": "ab2500f0",
   "metadata": {},
   "source": [
    "__Evaluate__"
   ]
  },
  {
   "cell_type": "code",
   "execution_count": 30,
   "id": "a54262d9",
   "metadata": {},
   "outputs": [
    {
     "data": {
      "image/png": "[encoded data removed]",
      "text/plain": [
       "<Figure size 1152x576 with 1 Axes>"
      ]
     },
     "metadata": {
      "needs_background": "light"
     },
     "output_type": "display_data"
    }
   ],
   "source": [
    "#Plot predicted compared to actual\n",
    "plt.figure(figsize = (16, 8))\n",
    "plt.plot(y_validate.Fertility, y_validate['baseline_mean_pred'], alpha = 0.5, color='gray', label='_nolegend_')\n",
    "plt.annotate('Baseline: Predict Using Mean', (40, 75))\n",
    "plt.plot(y_validate.Fertility, y_validate.Fertility, alpha = 0.5, color='blue', label='_nolegend_')\n",
    "plt.annotate('Ideal: Prediction = Actual', (40, 45), rotation=8.25)\n",
    "\n",
    "plt.scatter(y_validate.Fertility, y_validate['lm_preds'], \n",
    "            color = 'red', s=100, alpha = 0.5, label='Model: OLS')\n",
    "plt.scatter(y_validate.Fertility, y_validate['lars_preds'],\n",
    "           color = 'orange', s=100, alpha = 0.5, label = 'Model: LassoLars')\n",
    "plt.scatter(y_validate.Fertility, y_validate['glm_preds'],\n",
    "           color = 'pink', s = 100, alpha = 0.5, label = 'Model: GLM')\n",
    "plt.scatter(y_validate.Fertility, y_validate['poly_preds'],\n",
    "           color = 'brown', s = 100, alpha = 0.5, label = 'Model: Polynomial')\n",
    "plt.legend()\n",
    "plt.xlabel('Acutal Fertility')\n",
    "plt.ylabel('Predicted Fertility')\n",
    "plt.title('How do my predicitons compare to actual? To baseline?')\n",
    "plt.show()"
   ]
  },
  {
   "cell_type": "code",
   "execution_count": 32,
   "id": "6af2d125",
   "metadata": {},
   "outputs": [
    {
     "data": {
      "image/png": "[encoded data removed]",
      "text/plain": [
       "<Figure size 1152x576 with 1 Axes>"
      ]
     },
     "metadata": {
      "needs_background": "light"
     },
     "output_type": "display_data"
    }
   ],
   "source": [
    "plt.figure(figsize=(16,8))\n",
    "plt.axhline(label=\"No Error\")\n",
    "plt.scatter(y_validate.Fertility, y_validate.Fertility - y_validate['lm_preds'], \n",
    "            alpha=.5, color=\"red\", s=100, label=\"Model: LinearRegression\")\n",
    "plt.scatter(y_validate.Fertility, y_validate.Fertility - y_validate['lars_preds'], \n",
    "            alpha=.5, color=\"orange\", s=100, label=\"Model: LassoLars\")\n",
    "plt.scatter(y_validate.Fertility, y_validate.Fertility - y_validate['glm_preds'], \n",
    "            alpha=.5, color=\"pink\", s=100, label=\"Model: TweedieRegressor\")\n",
    "plt.scatter(y_validate.Fertility, y_validate.Fertility - y_validate['poly_preds'], \n",
    "            alpha=.5, color=\"brown\", s=100, label=\"Model 2nd degree Polynomial\")\n",
    "\n",
    "plt.legend()\n",
    "plt.xlabel(\"Actual Fertility\")\n",
    "plt.ylabel(\"Residual/Error: Actual Fertility - Predicted Fertility\")\n",
    "plt.title(\"Do the size of errors change as the actual value changes?\")\n",
    "plt.show()"
   ]
  },
  {
   "cell_type": "code",
   "execution_count": 33,
   "id": "b792ef7e",
   "metadata": {},
   "outputs": [
    {
     "data": {
      "image/png": "[encoded data removed]",
      "text/plain": [
       "<Figure size 1152x576 with 1 Axes>"
      ]
     },
     "metadata": {
      "needs_background": "light"
     },
     "output_type": "display_data"
    }
   ],
   "source": [
    "# plot to visualize actual vs predicted. \n",
    "plt.figure(figsize=(16,8))\n",
    "plt.hist(y_validate.Fertility, color='blue', alpha=.5, label=\"Actual Fertility\")\n",
    "plt.hist(y_validate['lm_preds'], color='red', alpha=.5, label=\"Model: LinearRegression\")\n",
    "plt.hist(y_validate['lars_preds'], color = 'orange', alpha = .5, label = 'Model: LassoLars')\n",
    "plt.hist(y_validate['glm_preds'], color='pink', alpha=.5, label=\"Model: TweedieRegressor\")\n",
    "plt.hist(y_validate['poly_preds'], color='brown', alpha=.5, label=\"Model 2nd degree Polynomial\")\n",
    "plt.xlabel(\"Fertility\")\n",
    "plt.ylabel(\"Number of Counties\")\n",
    "plt.title(\"Comparing the Distribution of Actual Fertility to Distributions of Predicted Fertility for the Top Models\")\n",
    "plt.legend()\n",
    "plt.show()"
   ]
  },
  {
   "cell_type": "markdown",
   "id": "3beb3ce4",
   "metadata": {},
   "source": [
    "__My Chosen Model: LinearRegression__"
   ]
  },
  {
   "cell_type": "code",
   "execution_count": 37,
   "id": "0bf97b39",
   "metadata": {},
   "outputs": [
    {
     "name": "stdout",
     "output_type": "stream",
     "text": [
      "RMSE for OLS using Linear Regression\n",
      "Test:  2.59\n"
     ]
    }
   ],
   "source": [
    "#Change y_train and y_validate to be data frames so we can store the baseline values in them\n",
    "y_test = pd.DataFrame(y_test)\n",
    "\n",
    "#Make predictions\n",
    "y_test['lm_preds'] = lm.predict(X_test_scaled)\n",
    "\n",
    "#Calculate RMSE\n",
    "test_RMSE = mean_squared_error(y_test.Fertility, y_test['lm_preds']) ** .5\n",
    "\n",
    "print(\"RMSE for OLS using Linear Regression\\nTest: \", round(train_RMSE, 2))"
   ]
  },
  {
   "cell_type": "code",
   "execution_count": null,
   "id": "3bd4ed87",
   "metadata": {},
   "outputs": [],
   "source": []
  }
 ],
 "metadata": {
  "kernelspec": {
   "display_name": "Python 3",
   "language": "python",
   "name": "python3"
  },
  "language_info": {
   "codemirror_mode": {
    "name": "ipython",
    "version": 3
   },
   "file_extension": ".py",
   "mimetype": "text/x-python",
   "name": "python",
   "nbconvert_exporter": "python",
   "pygments_lexer": "ipython3",
   "version": "3.9.1"
  }
 },
 "nbformat": 4,
 "nbformat_minor": 5
}
