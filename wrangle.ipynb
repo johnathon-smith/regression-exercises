{
 "cells": [
  {
   "cell_type": "markdown",
   "id": "a4f9b103",
   "metadata": {},
   "source": [
    "## Wrangle Exercises"
   ]
  },
  {
   "cell_type": "markdown",
   "id": "3acfca30",
   "metadata": {},
   "source": [
    "***"
   ]
  },
  {
   "cell_type": "markdown",
   "id": "9cfa9642",
   "metadata": {},
   "source": [
    "As a Codeup data science graduate, you want to show off your skills to the Zillow data science team in hopes of getting an interview for a position you saw pop up on LinkedIn. You thought it might look impressive to build an end-to-end project in which you use some of their Kaggle data to predict property values using some of their available features; who knows, you might even do some feature engineering to blow them away. Your goal is to predict the values of single unit properties using the obervations from 2017.\n",
    "\n",
    "In these exercises, you will complete the first step toward the above goal: acquire and prepare the necessary Zillow data from the zillow database in the Codeup database server."
   ]
  },
  {
   "cell_type": "markdown",
   "id": "89e6b489",
   "metadata": {},
   "source": [
    "***"
   ]
  },
  {
   "cell_type": "markdown",
   "id": "7daacf45",
   "metadata": {},
   "source": [
    "__Step 1__\n",
    "\n",
    "    Acquire the following from the Zillow DB for all 'Single Family Residential'\n",
    "    properties:\n",
    "    \n",
    "    - bedroomcnt\n",
    "    - bathroomcnt\n",
    "    - calculatedfinishedsquarefeet\n",
    "    - taxvaluedollarcnt\n",
    "    - yearbuilt\n",
    "    - taxamount\n",
    "    - and fips"
   ]
  },
  {
   "cell_type": "code",
   "execution_count": 1,
   "id": "1b260986",
   "metadata": {},
   "outputs": [],
   "source": [
    "import pandas as pd\n",
    "import numpy as np\n",
    "import matplotlib.pyplot as plt\n",
    "import seaborn as sns\n",
    "import env"
   ]
  },
  {
   "cell_type": "code",
   "execution_count": 2,
   "id": "67d1166f",
   "metadata": {},
   "outputs": [],
   "source": [
    "zillow_query = \"\"\"\n",
    "    SELECT bedroomcnt, bathroomcnt, calculatedfinishedsquarefeet, taxvaluedollarcnt, yearbuilt, taxamount, fips\n",
    "    FROM properties_2017\n",
    "    WHERE propertylandusetypeid = 261;\n",
    "\"\"\"\n",
    "zillow_url = f'mysql+pymysql://{env.user}:{env.password}@{env.host}/zillow'"
   ]
  },
  {
   "cell_type": "code",
   "execution_count": 3,
   "id": "37b7a40f",
   "metadata": {},
   "outputs": [
    {
     "data": {
      "text/html": [
       "<div>\n",
       "<style scoped>\n",
       "    .dataframe tbody tr th:only-of-type {\n",
       "        vertical-align: middle;\n",
       "    }\n",
       "\n",
       "    .dataframe tbody tr th {\n",
       "        vertical-align: top;\n",
       "    }\n",
       "\n",
       "    .dataframe thead th {\n",
       "        text-align: right;\n",
       "    }\n",
       "</style>\n",
       "<table border=\"1\" class=\"dataframe\">\n",
       "  <thead>\n",
       "    <tr style=\"text-align: right;\">\n",
       "      <th></th>\n",
       "      <th>bedroomcnt</th>\n",
       "      <th>bathroomcnt</th>\n",
       "      <th>calculatedfinishedsquarefeet</th>\n",
       "      <th>taxvaluedollarcnt</th>\n",
       "      <th>yearbuilt</th>\n",
       "      <th>taxamount</th>\n",
       "      <th>fips</th>\n",
       "    </tr>\n",
       "  </thead>\n",
       "  <tbody>\n",
       "    <tr>\n",
       "      <th>0</th>\n",
       "      <td>0.0</td>\n",
       "      <td>0.0</td>\n",
       "      <td>NaN</td>\n",
       "      <td>27516.0</td>\n",
       "      <td>NaN</td>\n",
       "      <td>NaN</td>\n",
       "      <td>6037.0</td>\n",
       "    </tr>\n",
       "    <tr>\n",
       "      <th>1</th>\n",
       "      <td>0.0</td>\n",
       "      <td>0.0</td>\n",
       "      <td>NaN</td>\n",
       "      <td>10.0</td>\n",
       "      <td>NaN</td>\n",
       "      <td>NaN</td>\n",
       "      <td>6037.0</td>\n",
       "    </tr>\n",
       "    <tr>\n",
       "      <th>2</th>\n",
       "      <td>0.0</td>\n",
       "      <td>0.0</td>\n",
       "      <td>NaN</td>\n",
       "      <td>10.0</td>\n",
       "      <td>NaN</td>\n",
       "      <td>NaN</td>\n",
       "      <td>6037.0</td>\n",
       "    </tr>\n",
       "    <tr>\n",
       "      <th>3</th>\n",
       "      <td>0.0</td>\n",
       "      <td>0.0</td>\n",
       "      <td>NaN</td>\n",
       "      <td>2108.0</td>\n",
       "      <td>NaN</td>\n",
       "      <td>174.21</td>\n",
       "      <td>6037.0</td>\n",
       "    </tr>\n",
       "    <tr>\n",
       "      <th>4</th>\n",
       "      <td>4.0</td>\n",
       "      <td>2.0</td>\n",
       "      <td>3633.0</td>\n",
       "      <td>296425.0</td>\n",
       "      <td>2005.0</td>\n",
       "      <td>6941.39</td>\n",
       "      <td>6037.0</td>\n",
       "    </tr>\n",
       "  </tbody>\n",
       "</table>\n",
       "</div>"
      ],
      "text/plain": [
       "   bedroomcnt  bathroomcnt  calculatedfinishedsquarefeet  taxvaluedollarcnt  \\\n",
       "0         0.0          0.0                           NaN            27516.0   \n",
       "1         0.0          0.0                           NaN               10.0   \n",
       "2         0.0          0.0                           NaN               10.0   \n",
       "3         0.0          0.0                           NaN             2108.0   \n",
       "4         4.0          2.0                        3633.0           296425.0   \n",
       "\n",
       "   yearbuilt  taxamount    fips  \n",
       "0        NaN        NaN  6037.0  \n",
       "1        NaN        NaN  6037.0  \n",
       "2        NaN        NaN  6037.0  \n",
       "3        NaN     174.21  6037.0  \n",
       "4     2005.0    6941.39  6037.0  "
      ]
     },
     "execution_count": 3,
     "metadata": {},
     "output_type": "execute_result"
    }
   ],
   "source": [
    "zillow = pd.read_sql(zillow_query, zillow_url)\n",
    "zillow.head()"
   ]
  },
  {
   "cell_type": "markdown",
   "id": "666d707d",
   "metadata": {},
   "source": [
    "***"
   ]
  },
  {
   "cell_type": "markdown",
   "id": "469c079f",
   "metadata": {},
   "source": [
    "__Step 2__\n",
    "\n",
    "Using your acquired Zillow data, walk through the summarization and cleaning steps in your wrangle.ipynb file like we did above. You may handle the missing values however you feel is appropriate and meaningful; remember to document your process and decisions using markdown and code commenting where helpful."
   ]
  },
  {
   "cell_type": "code",
   "execution_count": 4,
   "id": "7804bdf7",
   "metadata": {},
   "outputs": [
    {
     "name": "stdout",
     "output_type": "stream",
     "text": [
      "<class 'pandas.core.frame.DataFrame'>\n",
      "RangeIndex: 2152863 entries, 0 to 2152862\n",
      "Data columns (total 7 columns):\n",
      " #   Column                        Dtype  \n",
      "---  ------                        -----  \n",
      " 0   bedroomcnt                    float64\n",
      " 1   bathroomcnt                   float64\n",
      " 2   calculatedfinishedsquarefeet  float64\n",
      " 3   taxvaluedollarcnt             float64\n",
      " 4   yearbuilt                     float64\n",
      " 5   taxamount                     float64\n",
      " 6   fips                          float64\n",
      "dtypes: float64(7)\n",
      "memory usage: 115.0 MB\n"
     ]
    }
   ],
   "source": [
    "#Take a quick look at the data using .describe and .info\n",
    "zillow.info()"
   ]
  },
  {
   "cell_type": "code",
   "execution_count": 5,
   "id": "41925a3c",
   "metadata": {},
   "outputs": [
    {
     "data": {
      "text/html": [
       "<div>\n",
       "<style scoped>\n",
       "    .dataframe tbody tr th:only-of-type {\n",
       "        vertical-align: middle;\n",
       "    }\n",
       "\n",
       "    .dataframe tbody tr th {\n",
       "        vertical-align: top;\n",
       "    }\n",
       "\n",
       "    .dataframe thead th {\n",
       "        text-align: right;\n",
       "    }\n",
       "</style>\n",
       "<table border=\"1\" class=\"dataframe\">\n",
       "  <thead>\n",
       "    <tr style=\"text-align: right;\">\n",
       "      <th></th>\n",
       "      <th>bedroomcnt</th>\n",
       "      <th>bathroomcnt</th>\n",
       "      <th>calculatedfinishedsquarefeet</th>\n",
       "      <th>taxvaluedollarcnt</th>\n",
       "      <th>yearbuilt</th>\n",
       "      <th>taxamount</th>\n",
       "      <th>fips</th>\n",
       "    </tr>\n",
       "  </thead>\n",
       "  <tbody>\n",
       "    <tr>\n",
       "      <th>count</th>\n",
       "      <td>2.152852e+06</td>\n",
       "      <td>2.152852e+06</td>\n",
       "      <td>2.144379e+06</td>\n",
       "      <td>2.152370e+06</td>\n",
       "      <td>2.143526e+06</td>\n",
       "      <td>2.148421e+06</td>\n",
       "      <td>2.152863e+06</td>\n",
       "    </tr>\n",
       "    <tr>\n",
       "      <th>mean</th>\n",
       "      <td>3.287196e+00</td>\n",
       "      <td>2.230688e+00</td>\n",
       "      <td>1.862855e+03</td>\n",
       "      <td>4.618962e+05</td>\n",
       "      <td>1.960950e+03</td>\n",
       "      <td>5.634866e+03</td>\n",
       "      <td>6.048377e+03</td>\n",
       "    </tr>\n",
       "    <tr>\n",
       "      <th>std</th>\n",
       "      <td>9.547544e-01</td>\n",
       "      <td>9.992796e-01</td>\n",
       "      <td>1.222125e+03</td>\n",
       "      <td>6.996760e+05</td>\n",
       "      <td>2.216220e+01</td>\n",
       "      <td>8.178910e+03</td>\n",
       "      <td>2.043329e+01</td>\n",
       "    </tr>\n",
       "    <tr>\n",
       "      <th>min</th>\n",
       "      <td>0.000000e+00</td>\n",
       "      <td>0.000000e+00</td>\n",
       "      <td>1.000000e+00</td>\n",
       "      <td>1.000000e+00</td>\n",
       "      <td>1.801000e+03</td>\n",
       "      <td>1.850000e+00</td>\n",
       "      <td>6.037000e+03</td>\n",
       "    </tr>\n",
       "    <tr>\n",
       "      <th>25%</th>\n",
       "      <td>3.000000e+00</td>\n",
       "      <td>2.000000e+00</td>\n",
       "      <td>1.257000e+03</td>\n",
       "      <td>1.881702e+05</td>\n",
       "      <td>1.949000e+03</td>\n",
       "      <td>2.534980e+03</td>\n",
       "      <td>6.037000e+03</td>\n",
       "    </tr>\n",
       "    <tr>\n",
       "      <th>50%</th>\n",
       "      <td>3.000000e+00</td>\n",
       "      <td>2.000000e+00</td>\n",
       "      <td>1.623000e+03</td>\n",
       "      <td>3.276710e+05</td>\n",
       "      <td>1.958000e+03</td>\n",
       "      <td>4.108950e+03</td>\n",
       "      <td>6.037000e+03</td>\n",
       "    </tr>\n",
       "    <tr>\n",
       "      <th>75%</th>\n",
       "      <td>4.000000e+00</td>\n",
       "      <td>3.000000e+00</td>\n",
       "      <td>2.208000e+03</td>\n",
       "      <td>5.345270e+05</td>\n",
       "      <td>1.976000e+03</td>\n",
       "      <td>6.414320e+03</td>\n",
       "      <td>6.059000e+03</td>\n",
       "    </tr>\n",
       "    <tr>\n",
       "      <th>max</th>\n",
       "      <td>2.500000e+01</td>\n",
       "      <td>3.200000e+01</td>\n",
       "      <td>9.525760e+05</td>\n",
       "      <td>9.842891e+07</td>\n",
       "      <td>2.016000e+03</td>\n",
       "      <td>1.337756e+06</td>\n",
       "      <td>6.111000e+03</td>\n",
       "    </tr>\n",
       "  </tbody>\n",
       "</table>\n",
       "</div>"
      ],
      "text/plain": [
       "         bedroomcnt   bathroomcnt  calculatedfinishedsquarefeet  \\\n",
       "count  2.152852e+06  2.152852e+06                  2.144379e+06   \n",
       "mean   3.287196e+00  2.230688e+00                  1.862855e+03   \n",
       "std    9.547544e-01  9.992796e-01                  1.222125e+03   \n",
       "min    0.000000e+00  0.000000e+00                  1.000000e+00   \n",
       "25%    3.000000e+00  2.000000e+00                  1.257000e+03   \n",
       "50%    3.000000e+00  2.000000e+00                  1.623000e+03   \n",
       "75%    4.000000e+00  3.000000e+00                  2.208000e+03   \n",
       "max    2.500000e+01  3.200000e+01                  9.525760e+05   \n",
       "\n",
       "       taxvaluedollarcnt     yearbuilt     taxamount          fips  \n",
       "count       2.152370e+06  2.143526e+06  2.148421e+06  2.152863e+06  \n",
       "mean        4.618962e+05  1.960950e+03  5.634866e+03  6.048377e+03  \n",
       "std         6.996760e+05  2.216220e+01  8.178910e+03  2.043329e+01  \n",
       "min         1.000000e+00  1.801000e+03  1.850000e+00  6.037000e+03  \n",
       "25%         1.881702e+05  1.949000e+03  2.534980e+03  6.037000e+03  \n",
       "50%         3.276710e+05  1.958000e+03  4.108950e+03  6.037000e+03  \n",
       "75%         5.345270e+05  1.976000e+03  6.414320e+03  6.059000e+03  \n",
       "max         9.842891e+07  2.016000e+03  1.337756e+06  6.111000e+03  "
      ]
     },
     "execution_count": 5,
     "metadata": {},
     "output_type": "execute_result"
    }
   ],
   "source": [
    "zillow.describe()"
   ]
  },
  {
   "cell_type": "markdown",
   "id": "8a4b4c7b",
   "metadata": {},
   "source": [
    "__Key Takeaways:__\n",
    "\n",
    "* There are properties with no bathrooms or bedrooms listed. These may need to be removed.\n",
    "* There are 2,152,863 total entries\n",
    "* All datatypes are floats, but they don't need to be. May be due to null values.\n",
    "* There is at least one property that has only 1 sq foot. Will need to investigate further.\n",
    "* There is at least one property that has only 1 tax dollar value count. Will need to investigate further\n",
    "* Average 3 bed, 2 bath, 1800 sq ft\n",
    "* At least one property has 25 bedrooms listed. Does not sound 'single family'\n",
    "* At least one property has 32 bathrooms listed. Does not sound 'single family'\n",
    "* The largest property listed is 952,576 sq ft."
   ]
  },
  {
   "cell_type": "code",
   "execution_count": 6,
   "id": "08df0f08",
   "metadata": {},
   "outputs": [
    {
     "data": {
      "text/plain": [
       "bedroomcnt                        11\n",
       "bathroomcnt                       11\n",
       "calculatedfinishedsquarefeet    8484\n",
       "taxvaluedollarcnt                493\n",
       "yearbuilt                       9337\n",
       "taxamount                       4442\n",
       "fips                               0\n",
       "dtype: int64"
      ]
     },
     "execution_count": 6,
     "metadata": {},
     "output_type": "execute_result"
    }
   ],
   "source": [
    "#Check for null values\n",
    "zillow.isna().sum()"
   ]
  },
  {
   "cell_type": "code",
   "execution_count": 7,
   "id": "7d122285",
   "metadata": {},
   "outputs": [],
   "source": [
    "#Since there are over 2 million entries, I'm just going to drop the relatively few null values\n",
    "zillow.dropna(inplace = True)"
   ]
  },
  {
   "cell_type": "code",
   "execution_count": 8,
   "id": "d41e0ba7",
   "metadata": {},
   "outputs": [
    {
     "data": {
      "text/plain": [
       "bedroomcnt                      0\n",
       "bathroomcnt                     0\n",
       "calculatedfinishedsquarefeet    0\n",
       "taxvaluedollarcnt               0\n",
       "yearbuilt                       0\n",
       "taxamount                       0\n",
       "fips                            0\n",
       "dtype: int64"
      ]
     },
     "execution_count": 8,
     "metadata": {},
     "output_type": "execute_result"
    }
   ],
   "source": [
    "#Check the null count again, just to be sure\n",
    "zillow.isna().sum()"
   ]
  },
  {
   "cell_type": "code",
   "execution_count": 9,
   "id": "fcc1bcd4",
   "metadata": {},
   "outputs": [
    {
     "data": {
      "text/plain": [
       "3345"
      ]
     },
     "execution_count": 9,
     "metadata": {},
     "output_type": "execute_result"
    }
   ],
   "source": [
    "#How many properties have 0 beds and 0 baths? They should probably be dropped\n",
    "len(zillow[(zillow.bedroomcnt == 0) & (zillow.bathroomcnt == 0)])"
   ]
  },
  {
   "cell_type": "code",
   "execution_count": 10,
   "id": "f50a4dae",
   "metadata": {},
   "outputs": [],
   "source": [
    "#Drop them\n",
    "zillow = zillow[(zillow.bedroomcnt > 0) & (zillow.bathroomcnt > 0)]"
   ]
  },
  {
   "cell_type": "code",
   "execution_count": 11,
   "id": "37683171",
   "metadata": {},
   "outputs": [],
   "source": [
    "#If a property has more than 5 bedrooms, it is probably not single family residential.\n",
    "#Drop them\n",
    "zillow = zillow[zillow.bedroomcnt <= 5]"
   ]
  },
  {
   "cell_type": "code",
   "execution_count": 12,
   "id": "46d8c82f",
   "metadata": {},
   "outputs": [],
   "source": [
    "#If a property has more than 3 bathrooms, it is probably not single family residential.\n",
    "#Drop them\n",
    "zillow = zillow[zillow.bathroomcnt <= 3]"
   ]
  },
  {
   "cell_type": "code",
   "execution_count": 13,
   "id": "ed9ff435",
   "metadata": {},
   "outputs": [],
   "source": [
    "#As of 2019, the average sq ft of a single family home was 2,500 sq ft. \n",
    "#Let's remove all the properties that are greater than 5,000 sq ft.\n",
    "zillow = zillow[zillow.calculatedfinishedsquarefeet <= 5000]"
   ]
  },
  {
   "cell_type": "code",
   "execution_count": 14,
   "id": "f07db576",
   "metadata": {},
   "outputs": [],
   "source": [
    "#There are minimum requirements for the size of a house\n",
    "#While these rules vary from state to state, it seems that a good rule of thumb is:\n",
    "#A home must have 120sq ft per bedroom. No area regs on bathrooms\n",
    "#Drop properties that do not meet this general rule\n",
    "zillow = zillow[zillow.calculatedfinishedsquarefeet >= (120 * zillow.bedroomcnt)]"
   ]
  },
  {
   "cell_type": "code",
   "execution_count": 15,
   "id": "288d1b27",
   "metadata": {},
   "outputs": [],
   "source": [
    "#Now convert bedroomcnt, calculatedfinishedsquarefeet, and taxvaluedollarcnt to ints\n",
    "zillow.bedroomcnt = zillow.bedroomcnt.astype(int)\n",
    "zillow.calculatedfinishedsquarefeet = zillow.calculatedfinishedsquarefeet.astype(int)\n",
    "zillow.taxvaluedollarcnt = zillow.taxvaluedollarcnt.astype(int)"
   ]
  },
  {
   "cell_type": "code",
   "execution_count": 16,
   "id": "26e62605",
   "metadata": {},
   "outputs": [],
   "source": [
    "#fips and yearbuilt seem to be categorical, so I'm going to change those to object types\n",
    "#That should be helpful when exploring the data\n",
    "zillow.fips = zillow.fips.astype(object)\n",
    "zillow.yearbuilt = zillow.yearbuilt.astype(object)"
   ]
  },
  {
   "cell_type": "code",
   "execution_count": 17,
   "id": "dea06a79",
   "metadata": {},
   "outputs": [],
   "source": [
    "#I also want to rename the columns to be more understandable and easier to read\n",
    "zillow.rename(columns = {'bedroomcnt':'bedroom_count',\n",
    "                        'bathroomcnt':'bathroom_count',\n",
    "                        'calculatedfinishedsquarefeet':'area (sq-ft)',\n",
    "                        'taxvaluedollarcnt':'tax_value',\n",
    "                        'yearbuilt':'year_built',\n",
    "                        'taxamount':'tax_amount'}, inplace = True)"
   ]
  },
  {
   "cell_type": "code",
   "execution_count": 18,
   "id": "daefec8c",
   "metadata": {},
   "outputs": [
    {
     "data": {
      "image/png": "[encoded data removed]",
      "text/plain": [
       "<Figure size 432x288 with 1 Axes>"
      ]
     },
     "metadata": {
      "needs_background": "light"
     },
     "output_type": "display_data"
    },
    {
     "data": {
      "image/png": "[encoded data removed]",
      "text/plain": [
       "<Figure size 432x288 with 1 Axes>"
      ]
     },
     "metadata": {
      "needs_background": "light"
     },
     "output_type": "display_data"
    },
    {
     "data": {
      "image/png": "[encoded data removed]",
      "text/plain": [
       "<Figure size 432x288 with 1 Axes>"
      ]
     },
     "metadata": {
      "needs_background": "light"
     },
     "output_type": "display_data"
    },
    {
     "data": {
      "image/png": "[encoded data removed]",
      "text/plain": [
       "<Figure size 432x288 with 1 Axes>"
      ]
     },
     "metadata": {
      "needs_background": "light"
     },
     "output_type": "display_data"
    },
    {
     "data": {
      "image/png": "[encoded data removed]",
      "text/plain": [
       "<Figure size 432x288 with 1 Axes>"
      ]
     },
     "metadata": {
      "needs_background": "light"
     },
     "output_type": "display_data"
    },
    {
     "data": {
      "image/png": "[encoded data removed]",
      "text/plain": [
       "<Figure size 432x288 with 1 Axes>"
      ]
     },
     "metadata": {
      "needs_background": "light"
     },
     "output_type": "display_data"
    },
    {
     "data": {
      "image/png": "[encoded data removed]",
      "text/plain": [
       "<Figure size 432x288 with 1 Axes>"
      ]
     },
     "metadata": {
      "needs_background": "light"
     },
     "output_type": "display_data"
    }
   ],
   "source": [
    "#Plot the individual distributions\n",
    "for col in zillow.columns:\n",
    "    sns.histplot(x = col, data = zillow)\n",
    "    plt.title(col)\n",
    "    plt.show()"
   ]
  },
  {
   "cell_type": "code",
   "execution_count": 19,
   "id": "6de6dcfd",
   "metadata": {},
   "outputs": [],
   "source": [
    "#Based on the taxamount graph above, which is very right skewed\n",
    "#I think it would be acceptable to drop all properties where \n",
    "#taxamount > 20,000\n",
    "zillow = zillow[zillow.tax_amount <= 20_000]"
   ]
  },
  {
   "cell_type": "code",
   "execution_count": 20,
   "id": "e90c4386",
   "metadata": {},
   "outputs": [
    {
     "data": {
      "image/png": "[encoded data removed]",
      "text/plain": [
       "<Figure size 432x288 with 1 Axes>"
      ]
     },
     "metadata": {
      "needs_background": "light"
     },
     "output_type": "display_data"
    },
    {
     "data": {
      "image/png": "[encoded data removed]",
      "text/plain": [
       "<Figure size 432x288 with 1 Axes>"
      ]
     },
     "metadata": {
      "needs_background": "light"
     },
     "output_type": "display_data"
    },
    {
     "data": {
      "image/png": "[encoded data removed]",
      "text/plain": [
       "<Figure size 432x288 with 1 Axes>"
      ]
     },
     "metadata": {
      "needs_background": "light"
     },
     "output_type": "display_data"
    },
    {
     "data": {
      "image/png": "[encoded data removed]",
      "text/plain": [
       "<Figure size 432x288 with 1 Axes>"
      ]
     },
     "metadata": {
      "needs_background": "light"
     },
     "output_type": "display_data"
    },
    {
     "data": {
      "image/png": "[encoded data removed]",
      "text/plain": [
       "<Figure size 432x288 with 1 Axes>"
      ]
     },
     "metadata": {
      "needs_background": "light"
     },
     "output_type": "display_data"
    },
    {
     "data": {
      "image/png": "[encoded data removed]",
      "text/plain": [
       "<Figure size 432x288 with 1 Axes>"
      ]
     },
     "metadata": {
      "needs_background": "light"
     },
     "output_type": "display_data"
    },
    {
     "data": {
      "image/png": "[encoded data removed]",
      "text/plain": [
       "<Figure size 432x288 with 1 Axes>"
      ]
     },
     "metadata": {
      "needs_background": "light"
     },
     "output_type": "display_data"
    }
   ],
   "source": [
    "#Plot the individual distributions again\n",
    "for col in zillow.columns:\n",
    "    sns.histplot(x = col, data = zillow)\n",
    "    plt.title(col)\n",
    "    plt.show()"
   ]
  },
  {
   "cell_type": "code",
   "execution_count": 21,
   "id": "0c94bd21",
   "metadata": {},
   "outputs": [],
   "source": [
    "def remove_outliers(df, k, col_list):\n",
    "    ''' remove outliers from a list of columns in a dataframe \n",
    "        and return that dataframe\n",
    "    '''\n",
    "    \n",
    "    for col in col_list:\n",
    "\n",
    "        q1, q3 = df[col].quantile([.25, .75])  # get quartiles\n",
    "        \n",
    "        iqr = q3 - q1   # calculate interquartile range\n",
    "        \n",
    "        upper_bound = q3 + k * iqr   # get upper bound\n",
    "        lower_bound = q1 - k * iqr   # get lower bound\n",
    "\n",
    "        # return dataframe without outliers\n",
    "        \n",
    "        df = df[(df[col] > lower_bound) & (df[col] < upper_bound)]\n",
    "        \n",
    "    return df"
   ]
  },
  {
   "cell_type": "code",
   "execution_count": 22,
   "id": "ae6211c7",
   "metadata": {},
   "outputs": [
    {
     "name": "stdout",
     "output_type": "stream",
     "text": [
      "<class 'pandas.core.frame.DataFrame'>\n",
      "Int64Index: 1927087 entries, 4 to 2152861\n",
      "Data columns (total 7 columns):\n",
      " #   Column          Dtype  \n",
      "---  ------          -----  \n",
      " 0   bedroom_count   int64  \n",
      " 1   bathroom_count  float64\n",
      " 2   area (sq-ft)    int64  \n",
      " 3   tax_value       int64  \n",
      " 4   year_built      object \n",
      " 5   tax_amount      float64\n",
      " 6   fips            object \n",
      "dtypes: float64(2), int64(3), object(2)\n",
      "memory usage: 117.6+ MB\n"
     ]
    },
    {
     "data": {
      "text/html": [
       "<div>\n",
       "<style scoped>\n",
       "    .dataframe tbody tr th:only-of-type {\n",
       "        vertical-align: middle;\n",
       "    }\n",
       "\n",
       "    .dataframe tbody tr th {\n",
       "        vertical-align: top;\n",
       "    }\n",
       "\n",
       "    .dataframe thead th {\n",
       "        text-align: right;\n",
       "    }\n",
       "</style>\n",
       "<table border=\"1\" class=\"dataframe\">\n",
       "  <thead>\n",
       "    <tr style=\"text-align: right;\">\n",
       "      <th></th>\n",
       "      <th>bedroom_count</th>\n",
       "      <th>bathroom_count</th>\n",
       "      <th>area (sq-ft)</th>\n",
       "      <th>tax_value</th>\n",
       "      <th>tax_amount</th>\n",
       "    </tr>\n",
       "  </thead>\n",
       "  <tbody>\n",
       "    <tr>\n",
       "      <th>count</th>\n",
       "      <td>1.927087e+06</td>\n",
       "      <td>1.927087e+06</td>\n",
       "      <td>1.927087e+06</td>\n",
       "      <td>1.927087e+06</td>\n",
       "      <td>1.927087e+06</td>\n",
       "    </tr>\n",
       "    <tr>\n",
       "      <th>mean</th>\n",
       "      <td>3.180738e+00</td>\n",
       "      <td>2.026438e+00</td>\n",
       "      <td>1.661441e+03</td>\n",
       "      <td>3.568088e+05</td>\n",
       "      <td>4.418656e+03</td>\n",
       "    </tr>\n",
       "    <tr>\n",
       "      <th>std</th>\n",
       "      <td>8.058644e-01</td>\n",
       "      <td>6.677273e-01</td>\n",
       "      <td>5.932493e+02</td>\n",
       "      <td>2.544180e+05</td>\n",
       "      <td>2.916898e+03</td>\n",
       "    </tr>\n",
       "    <tr>\n",
       "      <th>min</th>\n",
       "      <td>1.000000e+00</td>\n",
       "      <td>5.000000e-01</td>\n",
       "      <td>1.400000e+02</td>\n",
       "      <td>2.200000e+01</td>\n",
       "      <td>1.648000e+01</td>\n",
       "    </tr>\n",
       "    <tr>\n",
       "      <th>25%</th>\n",
       "      <td>3.000000e+00</td>\n",
       "      <td>2.000000e+00</td>\n",
       "      <td>1.227000e+03</td>\n",
       "      <td>1.764430e+05</td>\n",
       "      <td>2.397420e+03</td>\n",
       "    </tr>\n",
       "    <tr>\n",
       "      <th>50%</th>\n",
       "      <td>3.000000e+00</td>\n",
       "      <td>2.000000e+00</td>\n",
       "      <td>1.551000e+03</td>\n",
       "      <td>3.037500e+05</td>\n",
       "      <td>3.830130e+03</td>\n",
       "    </tr>\n",
       "    <tr>\n",
       "      <th>75%</th>\n",
       "      <td>4.000000e+00</td>\n",
       "      <td>2.500000e+00</td>\n",
       "      <td>2.000000e+03</td>\n",
       "      <td>4.731990e+05</td>\n",
       "      <td>5.729040e+03</td>\n",
       "    </tr>\n",
       "    <tr>\n",
       "      <th>max</th>\n",
       "      <td>5.000000e+00</td>\n",
       "      <td>3.000000e+00</td>\n",
       "      <td>5.000000e+03</td>\n",
       "      <td>5.177673e+06</td>\n",
       "      <td>1.999984e+04</td>\n",
       "    </tr>\n",
       "  </tbody>\n",
       "</table>\n",
       "</div>"
      ],
      "text/plain": [
       "       bedroom_count  bathroom_count  area (sq-ft)     tax_value    tax_amount\n",
       "count   1.927087e+06    1.927087e+06  1.927087e+06  1.927087e+06  1.927087e+06\n",
       "mean    3.180738e+00    2.026438e+00  1.661441e+03  3.568088e+05  4.418656e+03\n",
       "std     8.058644e-01    6.677273e-01  5.932493e+02  2.544180e+05  2.916898e+03\n",
       "min     1.000000e+00    5.000000e-01  1.400000e+02  2.200000e+01  1.648000e+01\n",
       "25%     3.000000e+00    2.000000e+00  1.227000e+03  1.764430e+05  2.397420e+03\n",
       "50%     3.000000e+00    2.000000e+00  1.551000e+03  3.037500e+05  3.830130e+03\n",
       "75%     4.000000e+00    2.500000e+00  2.000000e+03  4.731990e+05  5.729040e+03\n",
       "max     5.000000e+00    3.000000e+00  5.000000e+03  5.177673e+06  1.999984e+04"
      ]
     },
     "execution_count": 22,
     "metadata": {},
     "output_type": "execute_result"
    }
   ],
   "source": [
    "zillow.info()\n",
    "zillow.describe()"
   ]
  },
  {
   "cell_type": "code",
   "execution_count": 23,
   "id": "d001f4de",
   "metadata": {},
   "outputs": [],
   "source": [
    "#For Testing\n",
    "zillow_without_outliers = remove_outliers(zillow, 2.5, zillow.columns)"
   ]
  },
  {
   "cell_type": "code",
   "execution_count": 24,
   "id": "991fd004",
   "metadata": {},
   "outputs": [
    {
     "name": "stdout",
     "output_type": "stream",
     "text": [
      "<class 'pandas.core.frame.DataFrame'>\n",
      "Int64Index: 1893720 entries, 4 to 2152861\n",
      "Data columns (total 7 columns):\n",
      " #   Column          Dtype  \n",
      "---  ------          -----  \n",
      " 0   bedroom_count   int64  \n",
      " 1   bathroom_count  float64\n",
      " 2   area (sq-ft)    int64  \n",
      " 3   tax_value       int64  \n",
      " 4   year_built      object \n",
      " 5   tax_amount      float64\n",
      " 6   fips            object \n",
      "dtypes: float64(2), int64(3), object(2)\n",
      "memory usage: 115.6+ MB\n"
     ]
    },
    {
     "data": {
      "text/html": [
       "<div>\n",
       "<style scoped>\n",
       "    .dataframe tbody tr th:only-of-type {\n",
       "        vertical-align: middle;\n",
       "    }\n",
       "\n",
       "    .dataframe tbody tr th {\n",
       "        vertical-align: top;\n",
       "    }\n",
       "\n",
       "    .dataframe thead th {\n",
       "        text-align: right;\n",
       "    }\n",
       "</style>\n",
       "<table border=\"1\" class=\"dataframe\">\n",
       "  <thead>\n",
       "    <tr style=\"text-align: right;\">\n",
       "      <th></th>\n",
       "      <th>bedroom_count</th>\n",
       "      <th>bathroom_count</th>\n",
       "      <th>area (sq-ft)</th>\n",
       "      <th>tax_value</th>\n",
       "      <th>tax_amount</th>\n",
       "    </tr>\n",
       "  </thead>\n",
       "  <tbody>\n",
       "    <tr>\n",
       "      <th>count</th>\n",
       "      <td>1.893720e+06</td>\n",
       "      <td>1.893720e+06</td>\n",
       "      <td>1.893720e+06</td>\n",
       "      <td>1.893720e+06</td>\n",
       "      <td>1.893720e+06</td>\n",
       "    </tr>\n",
       "    <tr>\n",
       "      <th>mean</th>\n",
       "      <td>3.177267e+00</td>\n",
       "      <td>2.017652e+00</td>\n",
       "      <td>1.646459e+03</td>\n",
       "      <td>3.409281e+05</td>\n",
       "      <td>4.232509e+03</td>\n",
       "    </tr>\n",
       "    <tr>\n",
       "      <th>std</th>\n",
       "      <td>8.045098e-01</td>\n",
       "      <td>6.652548e-01</td>\n",
       "      <td>5.761559e+02</td>\n",
       "      <td>2.219677e+05</td>\n",
       "      <td>2.537049e+03</td>\n",
       "    </tr>\n",
       "    <tr>\n",
       "      <th>min</th>\n",
       "      <td>1.000000e+00</td>\n",
       "      <td>1.000000e+00</td>\n",
       "      <td>1.400000e+02</td>\n",
       "      <td>2.200000e+01</td>\n",
       "      <td>1.648000e+01</td>\n",
       "    </tr>\n",
       "    <tr>\n",
       "      <th>25%</th>\n",
       "      <td>3.000000e+00</td>\n",
       "      <td>2.000000e+00</td>\n",
       "      <td>1.224000e+03</td>\n",
       "      <td>1.742360e+05</td>\n",
       "      <td>2.370960e+03</td>\n",
       "    </tr>\n",
       "    <tr>\n",
       "      <th>50%</th>\n",
       "      <td>3.000000e+00</td>\n",
       "      <td>2.000000e+00</td>\n",
       "      <td>1.542000e+03</td>\n",
       "      <td>2.993875e+05</td>\n",
       "      <td>3.779660e+03</td>\n",
       "    </tr>\n",
       "    <tr>\n",
       "      <th>75%</th>\n",
       "      <td>4.000000e+00</td>\n",
       "      <td>2.500000e+00</td>\n",
       "      <td>1.980000e+03</td>\n",
       "      <td>4.625062e+05</td>\n",
       "      <td>5.608480e+03</td>\n",
       "    </tr>\n",
       "    <tr>\n",
       "      <th>max</th>\n",
       "      <td>5.000000e+00</td>\n",
       "      <td>3.000000e+00</td>\n",
       "      <td>3.932000e+03</td>\n",
       "      <td>1.211874e+06</td>\n",
       "      <td>1.377130e+04</td>\n",
       "    </tr>\n",
       "  </tbody>\n",
       "</table>\n",
       "</div>"
      ],
      "text/plain": [
       "       bedroom_count  bathroom_count  area (sq-ft)     tax_value    tax_amount\n",
       "count   1.893720e+06    1.893720e+06  1.893720e+06  1.893720e+06  1.893720e+06\n",
       "mean    3.177267e+00    2.017652e+00  1.646459e+03  3.409281e+05  4.232509e+03\n",
       "std     8.045098e-01    6.652548e-01  5.761559e+02  2.219677e+05  2.537049e+03\n",
       "min     1.000000e+00    1.000000e+00  1.400000e+02  2.200000e+01  1.648000e+01\n",
       "25%     3.000000e+00    2.000000e+00  1.224000e+03  1.742360e+05  2.370960e+03\n",
       "50%     3.000000e+00    2.000000e+00  1.542000e+03  2.993875e+05  3.779660e+03\n",
       "75%     4.000000e+00    2.500000e+00  1.980000e+03  4.625062e+05  5.608480e+03\n",
       "max     5.000000e+00    3.000000e+00  3.932000e+03  1.211874e+06  1.377130e+04"
      ]
     },
     "execution_count": 24,
     "metadata": {},
     "output_type": "execute_result"
    }
   ],
   "source": [
    "zillow_without_outliers.info()\n",
    "zillow_without_outliers.describe()"
   ]
  },
  {
   "cell_type": "code",
   "execution_count": 25,
   "id": "c3f6881c",
   "metadata": {},
   "outputs": [
    {
     "data": {
      "image/png": "[encoded data removed]",
      "text/plain": [
       "<Figure size 432x288 with 1 Axes>"
      ]
     },
     "metadata": {
      "needs_background": "light"
     },
     "output_type": "display_data"
    },
    {
     "data": {
      "image/png": "[encoded data removed]",
      "text/plain": [
       "<Figure size 432x288 with 1 Axes>"
      ]
     },
     "metadata": {
      "needs_background": "light"
     },
     "output_type": "display_data"
    },
    {
     "data": {
      "image/png": "[encoded data removed]",
      "text/plain": [
       "<Figure size 432x288 with 1 Axes>"
      ]
     },
     "metadata": {
      "needs_background": "light"
     },
     "output_type": "display_data"
    },
    {
     "data": {
      "image/png": "[encoded data removed]",
      "text/plain": [
       "<Figure size 432x288 with 1 Axes>"
      ]
     },
     "metadata": {
      "needs_background": "light"
     },
     "output_type": "display_data"
    },
    {
     "data": {
      "image/png": "[encoded data removed]",
      "text/plain": [
       "<Figure size 432x288 with 1 Axes>"
      ]
     },
     "metadata": {
      "needs_background": "light"
     },
     "output_type": "display_data"
    },
    {
     "data": {
      "image/png": "[encoded data removed]",
      "text/plain": [
       "<Figure size 432x288 with 1 Axes>"
      ]
     },
     "metadata": {
      "needs_background": "light"
     },
     "output_type": "display_data"
    },
    {
     "data": {
      "image/png": "[encoded data removed]",
      "text/plain": [
       "<Figure size 432x288 with 1 Axes>"
      ]
     },
     "metadata": {
      "needs_background": "light"
     },
     "output_type": "display_data"
    }
   ],
   "source": [
    "#Plot the individual distributions again\n",
    "for col in zillow_without_outliers.columns:\n",
    "    sns.histplot(x = col, data = zillow_without_outliers)\n",
    "    plt.title(col)\n",
    "    plt.show()"
   ]
  },
  {
   "cell_type": "markdown",
   "id": "62078f59",
   "metadata": {},
   "source": [
    "__Note__\n",
    "\n",
    "I'm going stop cleaning and preparing at this point so that I can move forward with the assignment. However, I would like to go back and see if I can't clean it up some more after I have an MVP set up for the project."
   ]
  },
  {
   "cell_type": "markdown",
   "id": "166952b6",
   "metadata": {},
   "source": [
    "***"
   ]
  },
  {
   "cell_type": "markdown",
   "id": "aaa94b9a",
   "metadata": {},
   "source": [
    "__Step 3__\n",
    "\n",
    "Store all of the necessary functions to automate your process from acquiring the data to returning a cleaned dataframe with no missing values in your wrangle.py file. Name your final function wrangle_zillow."
   ]
  },
  {
   "cell_type": "code",
   "execution_count": 26,
   "id": "9ded3128",
   "metadata": {},
   "outputs": [],
   "source": [
    "#For Testing\n",
    "import wrangle"
   ]
  },
  {
   "cell_type": "code",
   "execution_count": 27,
   "id": "9a7f8e91",
   "metadata": {},
   "outputs": [],
   "source": [
    "#Reset the zillow df\n",
    "zillow = []"
   ]
  },
  {
   "cell_type": "code",
   "execution_count": 28,
   "id": "13f4a9fc",
   "metadata": {
    "scrolled": false
   },
   "outputs": [],
   "source": [
    "#Use wrangle.wrangle_zillow to acquire and prepare df\n",
    "zillow = wrangle.wrangle_zillow()"
   ]
  },
  {
   "cell_type": "code",
   "execution_count": 30,
   "id": "5f6cf9bf",
   "metadata": {},
   "outputs": [
    {
     "name": "stdout",
     "output_type": "stream",
     "text": [
      "<class 'pandas.core.frame.DataFrame'>\n",
      "Int64Index: 1893720 entries, 4 to 2152861\n",
      "Data columns (total 7 columns):\n",
      " #   Column          Dtype  \n",
      "---  ------          -----  \n",
      " 0   bedroom_count   int64  \n",
      " 1   bathroom_count  float64\n",
      " 2   area (sq-ft)    int64  \n",
      " 3   tax_value       int64  \n",
      " 4   year_built      object \n",
      " 5   tax_amount      float64\n",
      " 6   fips            object \n",
      "dtypes: float64(2), int64(3), object(2)\n",
      "memory usage: 115.6+ MB\n"
     ]
    },
    {
     "data": {
      "text/html": [
       "<div>\n",
       "<style scoped>\n",
       "    .dataframe tbody tr th:only-of-type {\n",
       "        vertical-align: middle;\n",
       "    }\n",
       "\n",
       "    .dataframe tbody tr th {\n",
       "        vertical-align: top;\n",
       "    }\n",
       "\n",
       "    .dataframe thead th {\n",
       "        text-align: right;\n",
       "    }\n",
       "</style>\n",
       "<table border=\"1\" class=\"dataframe\">\n",
       "  <thead>\n",
       "    <tr style=\"text-align: right;\">\n",
       "      <th></th>\n",
       "      <th>bedroom_count</th>\n",
       "      <th>bathroom_count</th>\n",
       "      <th>area (sq-ft)</th>\n",
       "      <th>tax_value</th>\n",
       "      <th>tax_amount</th>\n",
       "    </tr>\n",
       "  </thead>\n",
       "  <tbody>\n",
       "    <tr>\n",
       "      <th>count</th>\n",
       "      <td>1.893720e+06</td>\n",
       "      <td>1.893720e+06</td>\n",
       "      <td>1.893720e+06</td>\n",
       "      <td>1.893720e+06</td>\n",
       "      <td>1.893720e+06</td>\n",
       "    </tr>\n",
       "    <tr>\n",
       "      <th>mean</th>\n",
       "      <td>3.177267e+00</td>\n",
       "      <td>2.017652e+00</td>\n",
       "      <td>1.646459e+03</td>\n",
       "      <td>3.409281e+05</td>\n",
       "      <td>4.232509e+03</td>\n",
       "    </tr>\n",
       "    <tr>\n",
       "      <th>std</th>\n",
       "      <td>8.045098e-01</td>\n",
       "      <td>6.652548e-01</td>\n",
       "      <td>5.761559e+02</td>\n",
       "      <td>2.219677e+05</td>\n",
       "      <td>2.537049e+03</td>\n",
       "    </tr>\n",
       "    <tr>\n",
       "      <th>min</th>\n",
       "      <td>1.000000e+00</td>\n",
       "      <td>1.000000e+00</td>\n",
       "      <td>1.400000e+02</td>\n",
       "      <td>2.200000e+01</td>\n",
       "      <td>1.648000e+01</td>\n",
       "    </tr>\n",
       "    <tr>\n",
       "      <th>25%</th>\n",
       "      <td>3.000000e+00</td>\n",
       "      <td>2.000000e+00</td>\n",
       "      <td>1.224000e+03</td>\n",
       "      <td>1.742360e+05</td>\n",
       "      <td>2.370960e+03</td>\n",
       "    </tr>\n",
       "    <tr>\n",
       "      <th>50%</th>\n",
       "      <td>3.000000e+00</td>\n",
       "      <td>2.000000e+00</td>\n",
       "      <td>1.542000e+03</td>\n",
       "      <td>2.993875e+05</td>\n",
       "      <td>3.779660e+03</td>\n",
       "    </tr>\n",
       "    <tr>\n",
       "      <th>75%</th>\n",
       "      <td>4.000000e+00</td>\n",
       "      <td>2.500000e+00</td>\n",
       "      <td>1.980000e+03</td>\n",
       "      <td>4.625062e+05</td>\n",
       "      <td>5.608480e+03</td>\n",
       "    </tr>\n",
       "    <tr>\n",
       "      <th>max</th>\n",
       "      <td>5.000000e+00</td>\n",
       "      <td>3.000000e+00</td>\n",
       "      <td>3.932000e+03</td>\n",
       "      <td>1.211874e+06</td>\n",
       "      <td>1.377130e+04</td>\n",
       "    </tr>\n",
       "  </tbody>\n",
       "</table>\n",
       "</div>"
      ],
      "text/plain": [
       "       bedroom_count  bathroom_count  area (sq-ft)     tax_value    tax_amount\n",
       "count   1.893720e+06    1.893720e+06  1.893720e+06  1.893720e+06  1.893720e+06\n",
       "mean    3.177267e+00    2.017652e+00  1.646459e+03  3.409281e+05  4.232509e+03\n",
       "std     8.045098e-01    6.652548e-01  5.761559e+02  2.219677e+05  2.537049e+03\n",
       "min     1.000000e+00    1.000000e+00  1.400000e+02  2.200000e+01  1.648000e+01\n",
       "25%     3.000000e+00    2.000000e+00  1.224000e+03  1.742360e+05  2.370960e+03\n",
       "50%     3.000000e+00    2.000000e+00  1.542000e+03  2.993875e+05  3.779660e+03\n",
       "75%     4.000000e+00    2.500000e+00  1.980000e+03  4.625062e+05  5.608480e+03\n",
       "max     5.000000e+00    3.000000e+00  3.932000e+03  1.211874e+06  1.377130e+04"
      ]
     },
     "execution_count": 30,
     "metadata": {},
     "output_type": "execute_result"
    }
   ],
   "source": [
    "zillow.info()\n",
    "zillow.describe()"
   ]
  },
  {
   "cell_type": "code",
   "execution_count": 31,
   "id": "54b50d4c",
   "metadata": {},
   "outputs": [
    {
     "data": {
      "text/html": [
       "<div>\n",
       "<style scoped>\n",
       "    .dataframe tbody tr th:only-of-type {\n",
       "        vertical-align: middle;\n",
       "    }\n",
       "\n",
       "    .dataframe tbody tr th {\n",
       "        vertical-align: top;\n",
       "    }\n",
       "\n",
       "    .dataframe thead th {\n",
       "        text-align: right;\n",
       "    }\n",
       "</style>\n",
       "<table border=\"1\" class=\"dataframe\">\n",
       "  <thead>\n",
       "    <tr style=\"text-align: right;\">\n",
       "      <th></th>\n",
       "      <th>bedroom_count</th>\n",
       "      <th>bathroom_count</th>\n",
       "      <th>area (sq-ft)</th>\n",
       "      <th>tax_value</th>\n",
       "      <th>year_built</th>\n",
       "      <th>tax_amount</th>\n",
       "      <th>fips</th>\n",
       "    </tr>\n",
       "  </thead>\n",
       "  <tbody>\n",
       "    <tr>\n",
       "      <th>4</th>\n",
       "      <td>4</td>\n",
       "      <td>2.0</td>\n",
       "      <td>3633</td>\n",
       "      <td>296425</td>\n",
       "      <td>2005.0</td>\n",
       "      <td>6941.39</td>\n",
       "      <td>6037.0</td>\n",
       "    </tr>\n",
       "    <tr>\n",
       "      <th>7</th>\n",
       "      <td>3</td>\n",
       "      <td>2.0</td>\n",
       "      <td>2077</td>\n",
       "      <td>646760</td>\n",
       "      <td>1926.0</td>\n",
       "      <td>7924.68</td>\n",
       "      <td>6037.0</td>\n",
       "    </tr>\n",
       "    <tr>\n",
       "      <th>18</th>\n",
       "      <td>3</td>\n",
       "      <td>1.0</td>\n",
       "      <td>1244</td>\n",
       "      <td>169471</td>\n",
       "      <td>1950.0</td>\n",
       "      <td>2532.88</td>\n",
       "      <td>6037.0</td>\n",
       "    </tr>\n",
       "    <tr>\n",
       "      <th>19</th>\n",
       "      <td>3</td>\n",
       "      <td>2.0</td>\n",
       "      <td>1300</td>\n",
       "      <td>233266</td>\n",
       "      <td>1950.0</td>\n",
       "      <td>3110.99</td>\n",
       "      <td>6037.0</td>\n",
       "    </tr>\n",
       "    <tr>\n",
       "      <th>20</th>\n",
       "      <td>3</td>\n",
       "      <td>2.0</td>\n",
       "      <td>1222</td>\n",
       "      <td>290492</td>\n",
       "      <td>1951.0</td>\n",
       "      <td>3870.25</td>\n",
       "      <td>6037.0</td>\n",
       "    </tr>\n",
       "  </tbody>\n",
       "</table>\n",
       "</div>"
      ],
      "text/plain": [
       "    bedroom_count  bathroom_count  area (sq-ft)  tax_value year_built  \\\n",
       "4               4             2.0          3633     296425     2005.0   \n",
       "7               3             2.0          2077     646760     1926.0   \n",
       "18              3             1.0          1244     169471     1950.0   \n",
       "19              3             2.0          1300     233266     1950.0   \n",
       "20              3             2.0          1222     290492     1951.0   \n",
       "\n",
       "    tax_amount    fips  \n",
       "4      6941.39  6037.0  \n",
       "7      7924.68  6037.0  \n",
       "18     2532.88  6037.0  \n",
       "19     3110.99  6037.0  \n",
       "20     3870.25  6037.0  "
      ]
     },
     "execution_count": 31,
     "metadata": {},
     "output_type": "execute_result"
    }
   ],
   "source": [
    "zillow.head()"
   ]
  },
  {
   "cell_type": "code",
   "execution_count": 29,
   "id": "4247f63f",
   "metadata": {},
   "outputs": [],
   "source": [
    "#Testing successful"
   ]
  }
 ],
 "metadata": {
  "kernelspec": {
   "display_name": "Python 3",
   "language": "python",
   "name": "python3"
  },
  "language_info": {
   "codemirror_mode": {
    "name": "ipython",
    "version": 3
   },
   "file_extension": ".py",
   "mimetype": "text/x-python",
   "name": "python",
   "nbconvert_exporter": "python",
   "pygments_lexer": "ipython3",
   "version": "3.9.1"
  }
 },
 "nbformat": 4,
 "nbformat_minor": 5
}
