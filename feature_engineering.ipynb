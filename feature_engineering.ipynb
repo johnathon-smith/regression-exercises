{
 "cells": [
  {
   "cell_type": "markdown",
   "id": "46b8057f",
   "metadata": {},
   "source": [
    "# Feature Engineering Exercises"
   ]
  },
  {
   "cell_type": "markdown",
   "id": "6aa2d5f3",
   "metadata": {},
   "source": [
    "__Step 1__\n",
    "\n",
    "Load the tips dataset:\n",
    "* Create a column named tip_percentage. This should be the tip amount divided by the total bill.\n",
    "* Create a column named price_per_person. This should be the total bill divided by the party size.\n",
    "* Before using any of the methods discussed in the lesson, which features do you think would be most important for predicting the tip amount? The tip percentage?\n",
    "* Use all the other numeric features to predict tip amount. Use select k best and recursive feature elimination to select the top 2 features. What are they?\n",
    "* Use all the other numeric features to predict tip percentage. Use select k best and recursive feature elimination to select the top 2 features. What are they?\n",
    "* Why do you think select k best and recursive feature elimination might give different answers for the top features? Does this change as you change the number of features your are selecting?"
   ]
  },
  {
   "cell_type": "code",
   "execution_count": 1,
   "id": "e4283034",
   "metadata": {},
   "outputs": [],
   "source": [
    "import numpy as np\n",
    "import pandas as pd\n",
    "from pydataset import data"
   ]
  },
  {
   "cell_type": "code",
   "execution_count": 2,
   "id": "e9157f5c",
   "metadata": {},
   "outputs": [
    {
     "data": {
      "text/html": [
       "<div>\n",
       "<style scoped>\n",
       "    .dataframe tbody tr th:only-of-type {\n",
       "        vertical-align: middle;\n",
       "    }\n",
       "\n",
       "    .dataframe tbody tr th {\n",
       "        vertical-align: top;\n",
       "    }\n",
       "\n",
       "    .dataframe thead th {\n",
       "        text-align: right;\n",
       "    }\n",
       "</style>\n",
       "<table border=\"1\" class=\"dataframe\">\n",
       "  <thead>\n",
       "    <tr style=\"text-align: right;\">\n",
       "      <th></th>\n",
       "      <th>total_bill</th>\n",
       "      <th>tip</th>\n",
       "      <th>sex</th>\n",
       "      <th>smoker</th>\n",
       "      <th>day</th>\n",
       "      <th>time</th>\n",
       "      <th>size</th>\n",
       "    </tr>\n",
       "  </thead>\n",
       "  <tbody>\n",
       "    <tr>\n",
       "      <th>1</th>\n",
       "      <td>16.99</td>\n",
       "      <td>1.01</td>\n",
       "      <td>Female</td>\n",
       "      <td>No</td>\n",
       "      <td>Sun</td>\n",
       "      <td>Dinner</td>\n",
       "      <td>2</td>\n",
       "    </tr>\n",
       "    <tr>\n",
       "      <th>2</th>\n",
       "      <td>10.34</td>\n",
       "      <td>1.66</td>\n",
       "      <td>Male</td>\n",
       "      <td>No</td>\n",
       "      <td>Sun</td>\n",
       "      <td>Dinner</td>\n",
       "      <td>3</td>\n",
       "    </tr>\n",
       "    <tr>\n",
       "      <th>3</th>\n",
       "      <td>21.01</td>\n",
       "      <td>3.50</td>\n",
       "      <td>Male</td>\n",
       "      <td>No</td>\n",
       "      <td>Sun</td>\n",
       "      <td>Dinner</td>\n",
       "      <td>3</td>\n",
       "    </tr>\n",
       "    <tr>\n",
       "      <th>4</th>\n",
       "      <td>23.68</td>\n",
       "      <td>3.31</td>\n",
       "      <td>Male</td>\n",
       "      <td>No</td>\n",
       "      <td>Sun</td>\n",
       "      <td>Dinner</td>\n",
       "      <td>2</td>\n",
       "    </tr>\n",
       "    <tr>\n",
       "      <th>5</th>\n",
       "      <td>24.59</td>\n",
       "      <td>3.61</td>\n",
       "      <td>Female</td>\n",
       "      <td>No</td>\n",
       "      <td>Sun</td>\n",
       "      <td>Dinner</td>\n",
       "      <td>4</td>\n",
       "    </tr>\n",
       "  </tbody>\n",
       "</table>\n",
       "</div>"
      ],
      "text/plain": [
       "   total_bill   tip     sex smoker  day    time  size\n",
       "1       16.99  1.01  Female     No  Sun  Dinner     2\n",
       "2       10.34  1.66    Male     No  Sun  Dinner     3\n",
       "3       21.01  3.50    Male     No  Sun  Dinner     3\n",
       "4       23.68  3.31    Male     No  Sun  Dinner     2\n",
       "5       24.59  3.61  Female     No  Sun  Dinner     4"
      ]
     },
     "execution_count": 2,
     "metadata": {},
     "output_type": "execute_result"
    }
   ],
   "source": [
    "tips = data('tips')\n",
    "tips.head()"
   ]
  },
  {
   "cell_type": "code",
   "execution_count": 3,
   "id": "4b4c010d",
   "metadata": {},
   "outputs": [],
   "source": [
    "#Create tip percentage\n",
    "tips['tip_percentage'] = tips.tip / tips.total_bill\n",
    "\n",
    "#Create price per person\n",
    "tips['price_per_person'] = tips.total_bill / tips.size"
   ]
  },
  {
   "cell_type": "markdown",
   "id": "05afe6f0",
   "metadata": {},
   "source": [
    "I think that the most important features for predicting the tip amount would be total_bill and size."
   ]
  },
  {
   "cell_type": "code",
   "execution_count": 4,
   "id": "2bd6a172",
   "metadata": {},
   "outputs": [],
   "source": [
    "from sklearn.linear_model import LinearRegression\n",
    "from sklearn.feature_selection import SelectKBest, f_regression, RFE\n",
    "from sklearn.preprocessing import LabelEncoder, StandardScaler\n",
    "import wrangle"
   ]
  },
  {
   "cell_type": "code",
   "execution_count": 5,
   "id": "2a993326",
   "metadata": {},
   "outputs": [
    {
     "name": "stderr",
     "output_type": "stream",
     "text": [
      "<ipython-input-5-4ad7a790f5dd>:3: DeprecationWarning: Converting `np.inexact` or `np.floating` to a dtype is deprecated. The current result is `float64` which is not strictly correct.\n",
      "  if tips[column].dtype == np.number:\n"
     ]
    }
   ],
   "source": [
    "#Convert categorical columns to numeric values\n",
    "for column in tips.columns:\n",
    "    if tips[column].dtype == np.number:\n",
    "        continue\n",
    "    tips[column] = LabelEncoder().fit_transform(tips[column])"
   ]
  },
  {
   "cell_type": "markdown",
   "id": "9dd5d0e3",
   "metadata": {},
   "source": [
    "__Finding best features for predicting 'tip'__"
   ]
  },
  {
   "cell_type": "code",
   "execution_count": 6,
   "id": "94aea87c",
   "metadata": {},
   "outputs": [],
   "source": [
    "#Now split data into train, validate, test sets\n",
    "train, validate, test = wrangle.train_validate_test_split(tips)\n",
    "\n",
    "#Split the data into X and y groups\n",
    "X_train, y_train = train.drop(columns = ['tip', 'tip_percentage']), train.tip\n",
    "X_validate, y_validate = validate.drop(columns = ['tip', 'tip_percentage']), validate.tip\n",
    "X_test, y_test = test.drop(columns = ['tip', 'tip_percentage']), test.tip\n",
    "\n",
    "#Scale the data\n",
    "scaler = StandardScaler()\n",
    "train_scaled = scaler.fit_transform(X_train)\n",
    "validate_scaled = scaler.transform(X_validate)\n",
    "test_scaled = scaler.transform(X_test)"
   ]
  },
  {
   "cell_type": "code",
   "execution_count": 11,
   "id": "7d32ac2e",
   "metadata": {},
   "outputs": [
    {
     "data": {
      "text/plain": [
       "SelectKBest(k=2, score_func=<function f_regression at 0x7f8b2b26ce50>)"
      ]
     },
     "execution_count": 11,
     "metadata": {},
     "output_type": "execute_result"
    }
   ],
   "source": [
    "#Select K Best\n",
    "kbest = SelectKBest(f_regression, k=2)\n",
    "kbest.fit(train_scaled, y_train)"
   ]
  },
  {
   "cell_type": "code",
   "execution_count": 12,
   "id": "3fa8c842",
   "metadata": {},
   "outputs": [
    {
     "data": {
      "text/plain": [
       "array([ True, False, False, False, False, False,  True])"
      ]
     },
     "execution_count": 12,
     "metadata": {},
     "output_type": "execute_result"
    }
   ],
   "source": [
    "kbest.get_support()"
   ]
  },
  {
   "cell_type": "code",
   "execution_count": 14,
   "id": "5817ca60",
   "metadata": {},
   "outputs": [
    {
     "data": {
      "text/plain": [
       "Index(['total_bill', 'price_per_person'], dtype='object')"
      ]
     },
     "execution_count": 14,
     "metadata": {},
     "output_type": "execute_result"
    }
   ],
   "source": [
    "#What columns are they?\n",
    "X_train.columns[kbest.get_support()]"
   ]
  },
  {
   "cell_type": "code",
   "execution_count": 16,
   "id": "5f76ce64",
   "metadata": {},
   "outputs": [
    {
     "data": {
      "text/plain": [
       "RFE(estimator=LinearRegression(), n_features_to_select=2)"
      ]
     },
     "execution_count": 16,
     "metadata": {},
     "output_type": "execute_result"
    }
   ],
   "source": [
    "#RFE\n",
    "rfe = RFE(LinearRegression(), n_features_to_select=2)\n",
    "rfe.fit(train_scaled, y_train)"
   ]
  },
  {
   "cell_type": "code",
   "execution_count": 17,
   "id": "b69b6d1d",
   "metadata": {},
   "outputs": [
    {
     "data": {
      "text/plain": [
       "array([ True, False, False, False, False, False,  True])"
      ]
     },
     "execution_count": 17,
     "metadata": {},
     "output_type": "execute_result"
    }
   ],
   "source": [
    "rfe.get_support()"
   ]
  },
  {
   "cell_type": "code",
   "execution_count": 18,
   "id": "38935364",
   "metadata": {},
   "outputs": [
    {
     "data": {
      "text/plain": [
       "Index(['total_bill', 'price_per_person'], dtype='object')"
      ]
     },
     "execution_count": 18,
     "metadata": {},
     "output_type": "execute_result"
    }
   ],
   "source": [
    "X_train.columns[rfe.get_support()]"
   ]
  },
  {
   "cell_type": "markdown",
   "id": "5c55a3ac",
   "metadata": {},
   "source": [
    "The top two features for predicting tip amount are 'total_bill' and 'price_per_person'. Both SelectKBest and RFE agree."
   ]
  },
  {
   "cell_type": "markdown",
   "id": "5c42f4ae",
   "metadata": {},
   "source": [
    "__Finding best features for predicting 'tip_percentage'__"
   ]
  },
  {
   "cell_type": "code",
   "execution_count": 19,
   "id": "19a6f467",
   "metadata": {},
   "outputs": [],
   "source": [
    "#Change the y variables\n",
    "y_train, y_validate, y_test = train.tip_percentage, validate.tip_percentage, test.tip_percentage"
   ]
  },
  {
   "cell_type": "code",
   "execution_count": 20,
   "id": "9e47452d",
   "metadata": {},
   "outputs": [
    {
     "data": {
      "text/plain": [
       "SelectKBest(k=2, score_func=<function f_regression at 0x7f8b2b26ce50>)"
      ]
     },
     "execution_count": 20,
     "metadata": {},
     "output_type": "execute_result"
    }
   ],
   "source": [
    "#Select K Best\n",
    "kbest = SelectKBest(f_regression, k=2)\n",
    "kbest.fit(train_scaled, y_train)"
   ]
  },
  {
   "cell_type": "code",
   "execution_count": 21,
   "id": "bbaa11e5",
   "metadata": {},
   "outputs": [
    {
     "data": {
      "text/plain": [
       "array([ True, False, False, False, False, False,  True])"
      ]
     },
     "execution_count": 21,
     "metadata": {},
     "output_type": "execute_result"
    }
   ],
   "source": [
    "kbest.get_support()"
   ]
  },
  {
   "cell_type": "code",
   "execution_count": 22,
   "id": "b0e3f41a",
   "metadata": {},
   "outputs": [
    {
     "data": {
      "text/plain": [
       "Index(['total_bill', 'price_per_person'], dtype='object')"
      ]
     },
     "execution_count": 22,
     "metadata": {},
     "output_type": "execute_result"
    }
   ],
   "source": [
    "X_train.columns[kbest.get_support()]"
   ]
  },
  {
   "cell_type": "code",
   "execution_count": 26,
   "id": "b3d2d454",
   "metadata": {},
   "outputs": [
    {
     "data": {
      "text/plain": [
       "RFE(estimator=LinearRegression(), n_features_to_select=2)"
      ]
     },
     "execution_count": 26,
     "metadata": {},
     "output_type": "execute_result"
    }
   ],
   "source": [
    "#RFE\n",
    "rfe = RFE(LinearRegression(), n_features_to_select=2)\n",
    "rfe.fit(train_scaled, y_train)"
   ]
  },
  {
   "cell_type": "code",
   "execution_count": 27,
   "id": "6c611145",
   "metadata": {},
   "outputs": [
    {
     "data": {
      "text/plain": [
       "array([ True, False, False, False, False, False,  True])"
      ]
     },
     "execution_count": 27,
     "metadata": {},
     "output_type": "execute_result"
    }
   ],
   "source": [
    "rfe.get_support()"
   ]
  },
  {
   "cell_type": "code",
   "execution_count": 37,
   "id": "c74e294a",
   "metadata": {},
   "outputs": [
    {
     "data": {
      "text/plain": [
       "['total_bill', 'price_per_person']"
      ]
     },
     "execution_count": 37,
     "metadata": {},
     "output_type": "execute_result"
    }
   ],
   "source": [
    "X_train.columns[rfe.get_support()].tolist()"
   ]
  },
  {
   "cell_type": "markdown",
   "id": "79f9c617",
   "metadata": {},
   "source": [
    "The best two features for predicting 'tip_percentage' are 'total_bill' and 'price_per_person'. Both SelectKBest and RFE agree."
   ]
  },
  {
   "cell_type": "markdown",
   "id": "646df6d2",
   "metadata": {},
   "source": [
    "I think SelectKBest and RFE could give different results is because SelectKBest evaluates each feature individually, but RFE evaluates the features together and removes the worst performing features one at a time. RFE could find a relationship between multiple variables that helps predict better than just using one individually."
   ]
  },
  {
   "cell_type": "markdown",
   "id": "3af1eb2a",
   "metadata": {},
   "source": [
    "__Step 2__\n",
    "\n",
    "Write a function named select_kbest that takes in the predictors (X), the target (y), and the number of features to select (k) and returns the names of the top k selected features based on the SelectKBest class. Test your function with the tips dataset. You should see the same results as when you did the process manually."
   ]
  },
  {
   "cell_type": "code",
   "execution_count": 78,
   "id": "e5c8c45a",
   "metadata": {},
   "outputs": [],
   "source": [
    "def select_kbest(X_train, y_train, k):\n",
    "    #Will need to scale the X_train data\n",
    "    scaler = StandardScaler()\n",
    "    scaler.fit(X_train)\n",
    "    X_train_scaled = scaler.transform(X_train)\n",
    "    \n",
    "    kbest = SelectKBest(f_regression, k=k)\n",
    "    kbest.fit(X_train_scaled, y_train)\n",
    "    return X_train.columns[kbest.get_support()].tolist()"
   ]
  },
  {
   "cell_type": "code",
   "execution_count": 79,
   "id": "c880330c",
   "metadata": {},
   "outputs": [],
   "source": [
    "#Reset the splits\n",
    "#Now split data into train, validate, test sets\n",
    "train, validate, test = wrangle.train_validate_test_split(tips)\n",
    "\n",
    "#Split the data into X and y groups\n",
    "X_train, y_train = train.drop(columns = ['tip', 'tip_percentage']), train.tip\n",
    "X_validate, y_validate = validate.drop(columns = ['tip', 'tip_percentage']), validate.tip\n",
    "X_test, y_test = test.drop(columns = ['tip', 'tip_percentage']), test.tip"
   ]
  },
  {
   "cell_type": "code",
   "execution_count": 80,
   "id": "5134998e",
   "metadata": {},
   "outputs": [
    {
     "data": {
      "text/plain": [
       "['total_bill', 'price_per_person']"
      ]
     },
     "execution_count": 80,
     "metadata": {},
     "output_type": "execute_result"
    }
   ],
   "source": [
    "#Testing\n",
    "select_kbest(X_train, y_train, 2)"
   ]
  },
  {
   "cell_type": "markdown",
   "id": "f1313ae1",
   "metadata": {},
   "source": [
    "__Step 3__\n",
    "\n",
    "Write a function named rfe that takes in the predictors, the target, and the number of features to select. It should return the top k features based on the RFE class. Test your function with the tips dataset. You should see the same results as when you did the process manually."
   ]
  },
  {
   "cell_type": "code",
   "execution_count": 76,
   "id": "a988419c",
   "metadata": {},
   "outputs": [],
   "source": [
    "def rfe(X_train, y_train, n):\n",
    "    #Scale the X_train data\n",
    "    scaler = StandardScaler()\n",
    "    scaler.fit(X_train, y_train)\n",
    "    X_train_scaled = scaler.transform(X_train)\n",
    "    \n",
    "    rfe = RFE(LinearRegression(), n_features_to_select=n)\n",
    "    rfe.fit(X_train_scaled, y_train)\n",
    "    return X_train.columns[rfe.get_support()].tolist()"
   ]
  },
  {
   "cell_type": "code",
   "execution_count": 77,
   "id": "7bbb3de6",
   "metadata": {},
   "outputs": [
    {
     "data": {
      "text/plain": [
       "['total_bill', 'price_per_person']"
      ]
     },
     "execution_count": 77,
     "metadata": {},
     "output_type": "execute_result"
    }
   ],
   "source": [
    "#Testing\n",
    "rfe(X_train, y_train, 2)"
   ]
  },
  {
   "cell_type": "markdown",
   "id": "30c45c20",
   "metadata": {},
   "source": [
    "__Step 4__\n",
    "\n",
    "Load the swiss dataset and use all the other features to predict Fertility. Find the top 3 features using both select k best and recursive feature elimination (use the functions you just built to help you out)."
   ]
  },
  {
   "cell_type": "code",
   "execution_count": 82,
   "id": "37c3fa1c",
   "metadata": {},
   "outputs": [
    {
     "data": {
      "text/html": [
       "<div>\n",
       "<style scoped>\n",
       "    .dataframe tbody tr th:only-of-type {\n",
       "        vertical-align: middle;\n",
       "    }\n",
       "\n",
       "    .dataframe tbody tr th {\n",
       "        vertical-align: top;\n",
       "    }\n",
       "\n",
       "    .dataframe thead th {\n",
       "        text-align: right;\n",
       "    }\n",
       "</style>\n",
       "<table border=\"1\" class=\"dataframe\">\n",
       "  <thead>\n",
       "    <tr style=\"text-align: right;\">\n",
       "      <th></th>\n",
       "      <th>Fertility</th>\n",
       "      <th>Agriculture</th>\n",
       "      <th>Examination</th>\n",
       "      <th>Education</th>\n",
       "      <th>Catholic</th>\n",
       "      <th>Infant.Mortality</th>\n",
       "    </tr>\n",
       "  </thead>\n",
       "  <tbody>\n",
       "    <tr>\n",
       "      <th>Courtelary</th>\n",
       "      <td>80.2</td>\n",
       "      <td>17.0</td>\n",
       "      <td>15</td>\n",
       "      <td>12</td>\n",
       "      <td>9.96</td>\n",
       "      <td>22.2</td>\n",
       "    </tr>\n",
       "    <tr>\n",
       "      <th>Delemont</th>\n",
       "      <td>83.1</td>\n",
       "      <td>45.1</td>\n",
       "      <td>6</td>\n",
       "      <td>9</td>\n",
       "      <td>84.84</td>\n",
       "      <td>22.2</td>\n",
       "    </tr>\n",
       "    <tr>\n",
       "      <th>Franches-Mnt</th>\n",
       "      <td>92.5</td>\n",
       "      <td>39.7</td>\n",
       "      <td>5</td>\n",
       "      <td>5</td>\n",
       "      <td>93.40</td>\n",
       "      <td>20.2</td>\n",
       "    </tr>\n",
       "    <tr>\n",
       "      <th>Moutier</th>\n",
       "      <td>85.8</td>\n",
       "      <td>36.5</td>\n",
       "      <td>12</td>\n",
       "      <td>7</td>\n",
       "      <td>33.77</td>\n",
       "      <td>20.3</td>\n",
       "    </tr>\n",
       "    <tr>\n",
       "      <th>Neuveville</th>\n",
       "      <td>76.9</td>\n",
       "      <td>43.5</td>\n",
       "      <td>17</td>\n",
       "      <td>15</td>\n",
       "      <td>5.16</td>\n",
       "      <td>20.6</td>\n",
       "    </tr>\n",
       "  </tbody>\n",
       "</table>\n",
       "</div>"
      ],
      "text/plain": [
       "              Fertility  Agriculture  Examination  Education  Catholic  \\\n",
       "Courtelary         80.2         17.0           15         12      9.96   \n",
       "Delemont           83.1         45.1            6          9     84.84   \n",
       "Franches-Mnt       92.5         39.7            5          5     93.40   \n",
       "Moutier            85.8         36.5           12          7     33.77   \n",
       "Neuveville         76.9         43.5           17         15      5.16   \n",
       "\n",
       "              Infant.Mortality  \n",
       "Courtelary                22.2  \n",
       "Delemont                  22.2  \n",
       "Franches-Mnt              20.2  \n",
       "Moutier                   20.3  \n",
       "Neuveville                20.6  "
      ]
     },
     "execution_count": 82,
     "metadata": {},
     "output_type": "execute_result"
    }
   ],
   "source": [
    "swiss = data('swiss')\n",
    "swiss.head()"
   ]
  },
  {
   "cell_type": "code",
   "execution_count": 83,
   "id": "3ec1cfcc",
   "metadata": {},
   "outputs": [],
   "source": [
    "#Now split data into train, validate, test sets\n",
    "train, validate, test = wrangle.train_validate_test_split(swiss)\n",
    "\n",
    "#Split the data into X and y groups\n",
    "X_train, y_train = train.drop(columns = ['Fertility']), train.Fertility\n",
    "X_validate, y_validate = validate.drop(columns = ['Fertility']), validate.Fertility\n",
    "X_test, y_test = test.drop(columns = ['Fertility']), test.Fertility"
   ]
  },
  {
   "cell_type": "code",
   "execution_count": 84,
   "id": "8f8260a0",
   "metadata": {},
   "outputs": [
    {
     "data": {
      "text/plain": [
       "['Examination', 'Catholic', 'Infant.Mortality']"
      ]
     },
     "execution_count": 84,
     "metadata": {},
     "output_type": "execute_result"
    }
   ],
   "source": [
    "#Find best features using SelectKBest\n",
    "select_kbest(X_train, y_train, 3)"
   ]
  },
  {
   "cell_type": "code",
   "execution_count": 85,
   "id": "c859a7be",
   "metadata": {},
   "outputs": [
    {
     "data": {
      "text/plain": [
       "['Examination', 'Catholic', 'Infant.Mortality']"
      ]
     },
     "execution_count": 85,
     "metadata": {},
     "output_type": "execute_result"
    }
   ],
   "source": [
    "#Find best features using RFE\n",
    "rfe(X_train, y_train, 3)"
   ]
  },
  {
   "cell_type": "code",
   "execution_count": null,
   "id": "fe27af41",
   "metadata": {},
   "outputs": [],
   "source": []
  }
 ],
 "metadata": {
  "kernelspec": {
   "display_name": "Python 3",
   "language": "python",
   "name": "python3"
  },
  "language_info": {
   "codemirror_mode": {
    "name": "ipython",
    "version": 3
   },
   "file_extension": ".py",
   "mimetype": "text/x-python",
   "name": "python",
   "nbconvert_exporter": "python",
   "pygments_lexer": "ipython3",
   "version": "3.9.1"
  }
 },
 "nbformat": 4,
 "nbformat_minor": 5
}
